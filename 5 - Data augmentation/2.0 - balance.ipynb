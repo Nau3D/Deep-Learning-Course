{
 "cells": [
  {
   "attachments": {},
   "cell_type": "markdown",
   "metadata": {},
   "source": [
    "# Balancing a dataset\n",
    "\n",
    "This notebook shows a simple approach to balance a dataset, while performing some static data augmentation as well.\n",
    "\n",
    "The dataset will be expanded to have a similar number of images from each class. New images are created based on geometrical and colour operations performed on the images of the original training dataset."
   ]
  },
  {
   "cell_type": "code",
   "execution_count": 1,
   "metadata": {},
   "outputs": [],
   "source": [
    "from PIL import Image, ImageEnhance\n",
    "import random\n",
    "import os\n",
    "import shutil"
   ]
  },
  {
   "attachments": {},
   "cell_type": "markdown",
   "metadata": {},
   "source": [
    "## Settings"
   ]
  },
  {
   "cell_type": "code",
   "execution_count": 2,
   "metadata": {},
   "outputs": [],
   "source": [
    "IMAGES_PER_CLASS = 10000\n",
    "data_path = 'd:/vcpi/gtsrb'"
   ]
  },
  {
   "attachments": {},
   "cell_type": "markdown",
   "metadata": {},
   "source": [
    "First copy the original training set to the new folder"
   ]
  },
  {
   "cell_type": "code",
   "execution_count": 3,
   "metadata": {},
   "outputs": [
    {
     "data": {
      "text/plain": [
       "'d:/vcpi/gtsrb/train_balanced_1000'"
      ]
     },
     "execution_count": 3,
     "metadata": {},
     "output_type": "execute_result"
    }
   ],
   "source": [
    "shutil.copytree(f'{data_path}/train', f'{data_path}/train_balanced_{IMAGES_PER_CLASS}')"
   ]
  },
  {
   "cell_type": "markdown",
   "metadata": {},
   "source": [
    "balance and augment the dataset"
   ]
  },
  {
   "cell_type": "code",
   "execution_count": 4,
   "metadata": {},
   "outputs": [],
   "source": [
    "classes = os.listdir(f'{data_path}/train_balanced_{IMAGES_PER_CLASS}')\n",
    "\n",
    "list_img = []\n",
    "for cla in classes:\n",
    "    list_img = os.listdir(f'{data_path}/train_balanced_{IMAGES_PER_CLASS}/{cla}')\n",
    "    random.shuffle(list_img)\n",
    "    for k in range(len(list_img), IMAGES_PER_CLASS):\n",
    "\n",
    "        filename = f'{data_path}/train_balanced_{IMAGES_PER_CLASS}/{cla}/{list_img[(k - len(list_img)) % len(list_img)]}'\n",
    "        im = Image.open(filename)\n",
    "\n",
    "        r = random.uniform(-10.0,10.0)\n",
    "        im = im.rotate(r)\n",
    "        r1 = random.uniform(-3.0,3.0)\n",
    "        r2 = random.uniform(-3.0,3.0)\n",
    "\n",
    "        im = im.transform(im.size, Image.Transform.AFFINE, (1, 0, r1, 0, 1, r2))\n",
    "\n",
    "        r = random.uniform(1.0, 1.3)\n",
    "        im = ImageEnhance.Sharpness(im)\n",
    "        im = im.enhance(r)\n",
    "\n",
    "        r = random.uniform(1.0, 1.3)\n",
    "        im = ImageEnhance.Contrast(im)\n",
    "        im = im.enhance(r)\n",
    "        \n",
    "        im = im.resize((32,32))\n",
    "\n",
    "        im.save(f'{data_path}/train_balanced_{IMAGES_PER_CLASS}/{cla}/_{k}.png')\n"
   ]
  }
 ],
 "metadata": {
  "kernelspec": {
   "display_name": "Python 3",
   "language": "python",
   "name": "python3"
  },
  "language_info": {
   "codemirror_mode": {
    "name": "ipython",
    "version": 3
   },
   "file_extension": ".py",
   "mimetype": "text/x-python",
   "name": "python",
   "nbconvert_exporter": "python",
   "pygments_lexer": "ipython3",
   "version": "3.7.4"
  },
  "orig_nbformat": 4
 },
 "nbformat": 4,
 "nbformat_minor": 2
}
