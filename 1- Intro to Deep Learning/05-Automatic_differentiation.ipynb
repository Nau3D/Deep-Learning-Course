{
 "cells": [
  {
   "cell_type": "code",
   "execution_count": 53,
   "metadata": {},
   "outputs": [
    {
     "name": "stdout",
     "output_type": "stream",
     "text": [
      "PyTorch version:  1.12.1+cu116\n",
      "True\n"
     ]
    }
   ],
   "source": [
    "import torch\n",
    "from torch.autograd import Variable\n",
    "\n",
    "print(\"PyTorch version: \", torch.__version__)\n",
    "print(torch.cuda.is_available())"
   ]
  },
  {
   "cell_type": "code",
   "execution_count": 54,
   "metadata": {},
   "outputs": [
    {
     "name": "stdout",
     "output_type": "stream",
     "text": [
      "a : tensor(3.) 3.0\n"
     ]
    }
   ],
   "source": [
    "a = torch.tensor(3.0)\n",
    "\n",
    "print('a :', a, a.numpy())"
   ]
  },
  {
   "cell_type": "code",
   "execution_count": 55,
   "metadata": {},
   "outputs": [
    {
     "name": "stdout",
     "output_type": "stream",
     "text": [
      "torch.Size([]) 3.0 torch.float32\n"
     ]
    }
   ],
   "source": [
    "print(a.shape, a.numpy(), a.dtype)"
   ]
  },
  {
   "cell_type": "code",
   "execution_count": 56,
   "metadata": {},
   "outputs": [
    {
     "name": "stdout",
     "output_type": "stream",
     "text": [
      "tensor(5.)\n",
      "tensor(5.)\n"
     ]
    }
   ],
   "source": [
    "print (a + b)\n",
    "print (torch.add(a,b))"
   ]
  },
  {
   "cell_type": "code",
   "execution_count": 57,
   "metadata": {},
   "outputs": [
    {
     "name": "stdout",
     "output_type": "stream",
     "text": [
      "(tensor(6.),) (tensor(108.),) (tensor(18.),)\n"
     ]
    }
   ],
   "source": [
    "x = torch.tensor(3.0, requires_grad = True)\n",
    "\n",
    "y = x*x\n",
    "z = y*y\n",
    "\n",
    "dy_dx = torch.autograd.grad(y,x, retain_graph=True)\n",
    "dz_dx = torch.autograd.grad(z,x, retain_graph=True)\n",
    "dz_dy = torch.autograd.grad(z,y)\n",
    "\n",
    "print(dy_dx, dz_dx, dz_dy)\n"
   ]
  },
  {
   "cell_type": "code",
   "execution_count": 52,
   "metadata": {},
   "outputs": [
    {
     "name": "stdout",
     "output_type": "stream",
     "text": [
      "True\n"
     ]
    }
   ],
   "source": [
    "print(y.requires_grad)"
   ]
  }
 ],
 "metadata": {
  "kernelspec": {
   "display_name": "Python 3",
   "language": "python",
   "name": "python3"
  },
  "language_info": {
   "codemirror_mode": {
    "name": "ipython",
    "version": 3
   },
   "file_extension": ".py",
   "mimetype": "text/x-python",
   "name": "python",
   "nbconvert_exporter": "python",
   "pygments_lexer": "ipython3",
   "version": "3.7.4"
  },
  "vscode": {
   "interpreter": {
    "hash": "8ca9a0304c78ff1aed536949a52a998bc579376efcff4fb61d932d04b9b39864"
   }
  }
 },
 "nbformat": 4,
 "nbformat_minor": 2
}
